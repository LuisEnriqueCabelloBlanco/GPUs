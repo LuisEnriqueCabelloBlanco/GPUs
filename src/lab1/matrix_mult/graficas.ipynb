{
 "cells": [
  {
   "cell_type": "code",
   "execution_count": null,
   "metadata": {},
   "outputs": [],
   "source": [
    "import matplotlib.pyplot as plt\n",
    "import csv\n",
    "\n",
    "x = [] \n",
    "y = [] \n",
    "  \n",
    "with open('db.csv','r') as csvfile: \n",
    "    lines = csv.reader(csvfile, delimiter=',') \n",
    "    for row in lines: \n",
    "        x.append(row[0]) \n",
    "        y.append(int(row[1]))\n",
    "\n",
    "plt.plot(x, y, color = 'g', \n",
    "         marker = 'o',label = \"Data\") \n",
    "\n",
    "plt.xlabel('Dates') \n",
    "plt.ylabel('Temperature(°C)') \n",
    "plt.title('Weather Report', fontsize = 20) \n",
    "plt.legend() \n",
    "plt.show()"
   ]
  }
 ],
 "metadata": {
  "kernelspec": {
   "display_name": "Python 3",
   "language": "python",
   "name": "python3"
  },
  "language_info": {
   "name": "python",
   "version": "3.12.3"
  }
 },
 "nbformat": 4,
 "nbformat_minor": 2
}
